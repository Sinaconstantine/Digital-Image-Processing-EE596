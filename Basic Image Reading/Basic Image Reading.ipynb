{
 "cells": [
  {
   "cell_type": "markdown",
   "metadata": {},
   "source": [
    "# <span style='background:black'><span style='color:Cyan'> <span style='font-family:\"Times New Roman\"'> Objective: \n",
    "### <span style='font-family:\"Times New Roman\"'>This program is a basic starting point for reading images, and displaying them as well as their properties.  "
   ]
  },
  {
   "cell_type": "markdown",
   "metadata": {},
   "source": [
    "#  <span style='font-family:\"Times New Roman\"'>Importing Required Libraries "
   ]
  },
  {
   "cell_type": "code",
   "execution_count": 1,
   "metadata": {},
   "outputs": [],
   "source": [
    "import matplotlib.image as mpimg\n",
    "import matplotlib.pyplot as plt\n",
    "import numpy as np\n",
    "import shutil \n",
    "import random \n",
    "import os"
   ]
  },
  {
   "cell_type": "markdown",
   "metadata": {},
   "source": [
    "# <span style='font-family:\"Times New Roman\"'>Reading Image"
   ]
  },
  {
   "cell_type": "code",
   "execution_count": 2,
   "metadata": {},
   "outputs": [],
   "source": [
    "I = mpimg.imread('hw1_image.tiff')"
   ]
  },
  {
   "cell_type": "code",
   "execution_count": 3,
   "metadata": {},
   "outputs": [
    {
     "name": "stdout",
     "output_type": "stream",
     "text": [
      "Variable   Type       Data/Info\n",
      "-------------------------------\n",
      "I          ndarray    256x256: 65536 elems, type `uint8`, 65536 bytes\n",
      "mpimg      module     <module 'matplotlib.image<...>s\\\\matplotlib\\\\image.py'>\n",
      "np         module     <module 'numpy' from 'C:\\<...>ges\\\\numpy\\\\__init__.py'>\n",
      "os         module     <module 'os' from 'C:\\\\Us<...>\\\\Anaconda3\\\\lib\\\\os.py'>\n",
      "plt        module     <module 'matplotlib.pyplo<...>\\\\matplotlib\\\\pyplot.py'>\n",
      "random     module     <module 'random' from 'C:<...>aconda3\\\\lib\\\\random.py'>\n",
      "shutil     module     <module 'shutil' from 'C:<...>aconda3\\\\lib\\\\shutil.py'>\n"
     ]
    }
   ],
   "source": [
    "whos"
   ]
  },
  {
   "cell_type": "markdown",
   "metadata": {},
   "source": [
    "# <span style='font-family:\"Times New Roman\"'>What information does the command whos reveal about I?"
   ]
  },
  {
   "cell_type": "markdown",
   "metadata": {},
   "source": [
    "<span style='font-family:\"Times New Roman\"'>The whos command shows that variable `I` is a `256*256` array that has `65,536` elements. The type of `I` variable is `unit8` and the size of it is `65,536` bytes. "
   ]
  },
  {
   "cell_type": "markdown",
   "metadata": {},
   "source": [
    "# <span style='font-family:\"Times New Roman\"'>Maximum and Minimum Values of `I`:"
   ]
  },
  {
   "cell_type": "code",
   "execution_count": 4,
   "metadata": {},
   "outputs": [],
   "source": [
    "smallest = np.amin(I)\n",
    "biggest = np.amax(I)"
   ]
  },
  {
   "cell_type": "code",
   "execution_count": 5,
   "metadata": {},
   "outputs": [
    {
     "name": "stdout",
     "output_type": "stream",
     "text": [
      "Minimum value is:\n",
      "0\n",
      "Maximum value is:\n",
      "10\n"
     ]
    }
   ],
   "source": [
    "print(\"Minimum value is:\")\n",
    "print(smallest)\n",
    "print(\"Maximum value is:\")\n",
    "print(biggest)"
   ]
  },
  {
   "cell_type": "markdown",
   "metadata": {},
   "source": [
    "# <span style='font-family:\"Times New Roman\"'>Displaying Image "
   ]
  },
  {
   "cell_type": "code",
   "execution_count": 6,
   "metadata": {
    "scrolled": true
   },
   "outputs": [
    {
     "data": {
      "image/png": "[encoded data removed]",
      "text/plain": [
       "<Figure size 432x288 with 2 Axes>"
      ]
     },
     "metadata": {
      "needs_background": "light"
     },
     "output_type": "display_data"
    }
   ],
   "source": [
    "img=plt.imshow(I,cmap='gray',vmin=np.iinfo(np.uint8).min,vmax=np.iinfo(np.uint8).max)\n",
    "plt.axis('off')\n",
    "plt.title('Representation of Image with gray Color map')\n",
    "plt.colorbar()\n",
    "plt.xlabel('y')\n",
    "plt.ylabel('x')\n",
    "plt.show()"
   ]
  },
  {
   "cell_type": "code",
   "execution_count": 7,
   "metadata": {},
   "outputs": [
    {
     "data": {
      "image/png": "[encoded data removed]",
      "text/plain": [
       "<Figure size 432x288 with 2 Axes>"
      ]
     },
     "metadata": {
      "needs_background": "light"
     },
     "output_type": "display_data"
    }
   ],
   "source": [
    "img=plt.imshow(I,cmap='jet',vmin=np.iinfo(np.uint8).min,vmax=np.iinfo(np.uint8).max)\n",
    "plt.axis('auto')\n",
    "plt.title('Representation of Image with jet Color map')\n",
    "plt.colorbar()\n",
    "plt.xlabel('y', fontsize=18)\n",
    "plt.ylabel('x', fontsize=18)\n",
    "plt.show()"
   ]
  },
  {
   "cell_type": "code",
   "execution_count": 8,
   "metadata": {},
   "outputs": [
    {
     "data": {
      "image/png": "[encoded data removed]",
      "text/plain": [
       "<Figure size 432x288 with 2 Axes>"
      ]
     },
     "metadata": {
      "needs_background": "light"
     },
     "output_type": "display_data"
    }
   ],
   "source": [
    "img=plt.imshow(I,cmap='jet') \n",
    "plt.axis('auto')\n",
    "plt.title('Representation of Image with jet Color map without defining min and max values')\n",
    "plt.colorbar()\n",
    "plt.xlabel('y', fontsize=18)\n",
    "plt.ylabel('x', fontsize=18)\n",
    "plt.show()"
   ]
  },
  {
   "cell_type": "markdown",
   "metadata": {},
   "source": [
    "# <span style='font-family:\"Times New Roman\"'>What differences do you see in the image displayed using each of the three commands?"
   ]
  },
  {
   "cell_type": "markdown",
   "metadata": {},
   "source": [
    "<span style='font-family:\"Times New Roman\"'>The plot generated by command `img=plt.imshow(I,cmap='gray',vmin=np.iinfo(np.uint8).min,vmax=np.iinfo(np.uint8).max)` is a greyscale image with intensity level ranged from 0 to 255. Also, it has less aspect ratio comparing to other commands and the reason behind it is the fact that we have set plot axis to `off`.\n",
    "`img=plt.imshow(I,cmap='jet',vmin=np.iinfo(np.uint8).min,vmax=np.iinfo(np.uint8).max)` generated mostly blue colors, with intensity level ranged from 0 to 255. In contrary, `img=plt.imshow(I,cmap='jet')` produced crimson and blue colors with color bar intensity ranged from 0 to 10.\n",
    "The axis value for the last two commands are equal (which was expected).\n",
    "These differences between these image representations comes from the fact that different color maps have been used to display images."
   ]
  },
  {
   "cell_type": "markdown",
   "metadata": {},
   "source": [
    "# <span style='font-family:\"Times New Roman\"'> Modifying plt.imshow Command"
   ]
  },
  {
   "cell_type": "markdown",
   "metadata": {},
   "source": [
    "# <span style='font-family:\"Times New Roman\"'>Target Display:"
   ]
  },
  {
   "cell_type": "code",
   "execution_count": 9,
   "metadata": {},
   "outputs": [
    {
     "data": {
      "image/png": "[encoded data removed]",
      "text/plain": [
       "<Figure size 432x288 with 2 Axes>"
      ]
     },
     "metadata": {
      "needs_background": "light"
     },
     "output_type": "display_data"
    }
   ],
   "source": [
    "img=plt.imshow(I,cmap='gray',vmin=np.iinfo(np.uint8).min,vmax=np.iinfo(np.uint8).max); \n",
    "plt.axis('auto')\n",
    "plt.title('Target Image')\n",
    "plt.colorbar()\n",
    "plt.xlabel('y', fontsize=18)\n",
    "plt.ylabel('x', fontsize=18)\n",
    "plt.show()"
   ]
  },
  {
   "cell_type": "markdown",
   "metadata": {},
   "source": [
    "# <span style='font-family:\"Times New Roman\"'>Modification Process: "
   ]
  },
  {
   "cell_type": "code",
   "execution_count": 10,
   "metadata": {},
   "outputs": [
    {
     "data": {
      "image/png": "[encoded data removed]",
      "text/plain": [
       "<Figure size 432x288 with 2 Axes>"
      ]
     },
     "metadata": {
      "needs_background": "light"
     },
     "output_type": "display_data"
    }
   ],
   "source": [
    "img=plt.imshow(I);\n",
    "plt.set_cmap('gray')\n",
    "img.set_clim(0,255)\n",
    "plt.axis('auto')\n",
    "plt.title('Modified image to get target image')\n",
    "plt.colorbar()\n",
    "plt.xlabel('y', fontsize=18)\n",
    "plt.ylabel('x', fontsize=18)\n",
    "plt.show()"
   ]
  },
  {
   "cell_type": "markdown",
   "metadata": {},
   "source": [
    "# <span style='font-family:\"Times New Roman\"'>Cast the Image as a Float "
   ]
  },
  {
   "cell_type": "code",
   "execution_count": 11,
   "metadata": {},
   "outputs": [],
   "source": [
    "I_float = I.astype(float)"
   ]
  },
  {
   "cell_type": "markdown",
   "metadata": {},
   "source": [
    "# <span style='font-family:\"Times New Roman\"'>Displaying Float as an Image"
   ]
  },
  {
   "cell_type": "code",
   "execution_count": 12,
   "metadata": {},
   "outputs": [
    {
     "data": {
      "image/png": "[encoded data removed]",
      "text/plain": [
       "<Figure size 432x288 with 2 Axes>"
      ]
     },
     "metadata": {
      "needs_background": "light"
     },
     "output_type": "display_data"
    }
   ],
   "source": [
    "img=plt.imshow(I_float,cmap='gray',vmin=np.iinfo(np.uint8).min,vmax=np.iinfo(np.uint8).max)\n",
    "plt.axis('off')\n",
    "plt.title('Representation of float Image with gray Color map')\n",
    "plt.colorbar()\n",
    "plt.xlabel('y', fontsize=18)\n",
    "plt.ylabel('x', fontsize=18)\n",
    "plt.show()"
   ]
  },
  {
   "cell_type": "code",
   "execution_count": 13,
   "metadata": {},
   "outputs": [
    {
     "data": {
      "image/png": "[encoded data removed]",
      "text/plain": [
       "<Figure size 432x288 with 2 Axes>"
      ]
     },
     "metadata": {
      "needs_background": "light"
     },
     "output_type": "display_data"
    }
   ],
   "source": [
    "img=plt.imshow(I_float,cmap='jet',vmin=np.iinfo(np.uint8).min,vmax=np.iinfo(np.uint8).max)\n",
    "plt.axis('auto')\n",
    "plt.title('Representation of float Image with jet Color map')\n",
    "plt.colorbar()\n",
    "plt.xlabel('y', fontsize=18)\n",
    "plt.ylabel('x', fontsize=18)\n",
    "plt.show()"
   ]
  },
  {
   "cell_type": "code",
   "execution_count": 14,
   "metadata": {},
   "outputs": [
    {
     "data": {
      "image/png": "[encoded data removed]",
      "text/plain": [
       "<Figure size 432x288 with 2 Axes>"
      ]
     },
     "metadata": {
      "needs_background": "light"
     },
     "output_type": "display_data"
    }
   ],
   "source": [
    "img=plt.imshow(I_float,cmap='jet') \n",
    "plt.axis('auto')\n",
    "plt.title('Representation of float Image with jet Color map without defining min and max values')\n",
    "plt.colorbar()\n",
    "plt.xlabel('y', fontsize=18)\n",
    "plt.ylabel('x', fontsize=18)\n",
    "plt.show()"
   ]
  },
  {
   "cell_type": "code",
   "execution_count": 15,
   "metadata": {},
   "outputs": [],
   "source": [
    "smallest = np.amin(I_float)\n",
    "biggest = np.amax(I_float)"
   ]
  },
  {
   "cell_type": "code",
   "execution_count": 16,
   "metadata": {},
   "outputs": [
    {
     "name": "stdout",
     "output_type": "stream",
     "text": [
      "Minimum value is:\n",
      "0.0\n",
      "Maximum value is:\n",
      "10.0\n"
     ]
    }
   ],
   "source": [
    "print(\"Minimum value is:\")\n",
    "print(smallest)\n",
    "print(\"Maximum value is:\")\n",
    "print(biggest)"
   ]
  },
  {
   "cell_type": "markdown",
   "metadata": {},
   "source": [
    "# <span style='font-family:\"Times New Roman\"'>Do the three commands behave differently now?"
   ]
  },
  {
   "cell_type": "markdown",
   "metadata": {},
   "source": [
    "<span style='font-family:\"Times New Roman\"'>The main difference between `float` and `uint8` is in their capability to store precise data. In other words, 64-bit floating point can store more amount of information comparing to 8-bit array. \n",
    "From image displaying point of view, the axis should remain the same which are ranged from `[0,255]`, color bars have the same range, and no visible differences are describable.   \n",
    "From data size point of view, `I` which has `unit8` format is `65536` bytes large but `I_float` is `524288` bytes large.   "
   ]
  },
  {
   "cell_type": "code",
   "execution_count": 17,
   "metadata": {},
   "outputs": [],
   "source": [
    "mpimg.imsave('hw1_saved_image.tiff',I_float)"
   ]
  },
  {
   "cell_type": "code",
   "execution_count": 18,
   "metadata": {},
   "outputs": [],
   "source": [
    "I_savedfloat = mpimg.imread('hw1_saved_image.tiff')"
   ]
  },
  {
   "cell_type": "code",
   "execution_count": 19,
   "metadata": {},
   "outputs": [
    {
     "name": "stdout",
     "output_type": "stream",
     "text": [
      "Variable       Type         Data/Info\n",
      "-------------------------------------\n",
      "I              ndarray      256x256: 65536 elems, type `uint8`, 65536 bytes\n",
      "I_float        ndarray      256x256: 65536 elems, type `float64`, 524288 bytes (512.0 kb)\n",
      "I_savedfloat   ndarray      256x256x4: 262144 elems, type `uint8`, 262144 bytes (256.0 kb)\n",
      "biggest        float64      10.0\n",
      "img            AxesImage    AxesImage(54,36;267.84x217.44)\n",
      "mpimg          module       <module 'matplotlib.image<...>s\\\\matplotlib\\\\image.py'>\n",
      "np             module       <module 'numpy' from 'C:\\<...>ges\\\\numpy\\\\__init__.py'>\n",
      "os             module       <module 'os' from 'C:\\\\Us<...>\\\\Anaconda3\\\\lib\\\\os.py'>\n",
      "plt            module       <module 'matplotlib.pyplo<...>\\\\matplotlib\\\\pyplot.py'>\n",
      "random         module       <module 'random' from 'C:<...>aconda3\\\\lib\\\\random.py'>\n",
      "shutil         module       <module 'shutil' from 'C:<...>aconda3\\\\lib\\\\shutil.py'>\n",
      "smallest       float64      0.0\n"
     ]
    }
   ],
   "source": [
    "whos"
   ]
  },
  {
   "cell_type": "markdown",
   "metadata": {},
   "source": [
    "# <span style='font-family:\"Times New Roman\"'>What information does the command `whos` reveal about `I_savedfloat`?"
   ]
  },
  {
   "cell_type": "markdown",
   "metadata": {},
   "source": [
    "<span style='font-family:\"Times New Roman\"'>The `whos` command shows that I_savedfloat has 256x256x4: 262144 elements with `uint8` data type. The size of the file is `262144 bytes (256.0 kb)`. This is interesting because `I_float` size is `512 kb` while `I_savedfloat` size is `256 kb` which means that the saved file is the compressed version of the generated image. It can be important in image compression. "
   ]
  },
  {
   "cell_type": "code",
   "execution_count": 20,
   "metadata": {},
   "outputs": [],
   "source": [
    "smallest = np.amin(I_savedfloat)\n",
    "biggest = np.amax(I_savedfloat)"
   ]
  },
  {
   "cell_type": "code",
   "execution_count": 21,
   "metadata": {},
   "outputs": [
    {
     "name": "stdout",
     "output_type": "stream",
     "text": [
      "Minimum value is:\n",
      "0\n",
      "Maximum value is:\n",
      "255\n"
     ]
    }
   ],
   "source": [
    "print(\"Minimum value is:\")\n",
    "print(smallest)\n",
    "print(\"Maximum value is:\")\n",
    "print(biggest)"
   ]
  }
 ],
 "metadata": {
  "kernelspec": {
   "display_name": "Python 3",
   "language": "python",
   "name": "python3"
  },
  "language_info": {
   "codemirror_mode": {
    "name": "ipython",
    "version": 3
   },
   "file_extension": ".py",
   "mimetype": "text/x-python",
   "name": "python",
   "nbconvert_exporter": "python",
   "pygments_lexer": "ipython3",
   "version": "3.7.3"
  }
 },
 "nbformat": 4,
 "nbformat_minor": 2
}
